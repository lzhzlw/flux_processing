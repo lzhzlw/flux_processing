{
 "cells": [
  {
   "cell_type": "code",
   "execution_count": 5,
   "metadata": {},
   "outputs": [],
   "source": [
    "# choose the columns to be read from the input file\n",
    "columns_mapping = {\n",
    "    'TIMESTAMP_1': 'TIMESTAMP_1',\n",
    "    'TIMESTAMP_2': 'TIMESTAMP_2',\n",
    "    'Temp_K_Avg': 'Ta_0_0_1',\n",
    "    'press_Avg': 'Pa_0_0_1',\n",
    "    'rh_hmp1_Avg': 'RH_0_0_1',\n",
    "    'Rn_total_Avg': 'Rn_0_0_1',\n",
    "    'Rad_long_Dn_Avg': 'LWin_0_0_1',\n",
    "    'Rad_long_Up_Avg': 'LWout_0_0_1',\n",
    "    'Rad_short_Dn_Avg': 'SWin_0_0_1',\n",
    "    'Rad_short_Up_Avg': 'SWout_0_0_1',\n",
    "    'par_flxdens_Avg': 'PPFD_0_0_1',\n",
    "    'wnd_spd': 'MWS_0_0_1',\n",
    "    'wnd_dir_compass': 'WD_0_0_1',\n",
    "    'SoilT_Avg(1)': 'Ts_0_0_1',\n",
    "    'SoilT_Avg(2)': 'Ts_0_0_2',\n",
    "    'SoilT_Avg(3)': 'Ts_0_0_3',\n",
    "    'HFT_Avg(1)': 'SHF_0_0_1',\n",
    "    'HFT_Avg(2)': 'SHF_0_0_2',\n",
    "    'HFT_Avg(3)': 'SHF_0_0_3',\n",
    "    'vwc_Avg': 'SWC_0_0_1',\n",
    "}\n",
    "# define the units of the columns\n",
    "units = {\n",
    "    'TIMESTAMP_1': 'yyyy-mm-dd',\n",
    "    'TIMESTAMP_2': 'HHMM',\n",
    "    'Ta_0_0_1': 'K',\n",
    "    'Pa_0_0_1': 'kPa',\n",
    "    'RH_0_0_1': '%',\n",
    "    'Rn_0_0_1': 'W+1m-2',\n",
    "    'LWin_0_0_1': 'W+1m-2',\n",
    "    'LWout_0_0_1': 'W+1m-2',\n",
    "    'SWin_0_0_1': 'W+1m-2',\n",
    "    'SWout_0_0_1': 'W+1m-2',\n",
    "    'PPFD_0_0_1': 'umol+1m-2s-1',\n",
    "    'MWS_0_0_1': 'm+1s-1',\n",
    "    'WD_0_0_1': 'degrees',\n",
    "    'Ts_0_0_1': 'C',\n",
    "    'Ts_0_0_2': 'C',\n",
    "    'Ts_0_0_3': 'C',\n",
    "    'SHF_0_0_1': 'W+1m-2',\n",
    "    'SHF_0_0_2': 'W+1m-2',\n",
    "    'SHF_0_0_3': 'W+1m-2',\n",
    "    'SWC_0_0_1': 'm+3m-3',\n",
    "}"
   ]
  },
  {
   "cell_type": "code",
   "execution_count": null,
   "metadata": {},
   "outputs": [
    {
     "name": "stdout",
     "output_type": "stream",
     "text": [
      "Data successfully converted and saved to H:\\Flux\\KBS\\2023T7\\raw\\TOA5_flux7_230808.csv\n"
     ]
    }
   ],
   "source": [
    "import pandas as pd\n",
    "\n",
    "#read the data from the input file\n",
    "file_path = \"H:\\\\Flux\\\\KBS\\\\2023T7\\\\raw\\\\TOA5_flux7_230808.dat\"  \n",
    "df = pd.read_csv(file_path, skiprows=[0, 2, 3], low_memory=False) # skip 3 rows\n",
    "\n",
    "# parse the timestamp column\n",
    "try:\n",
    "    df['TIMESTAMP'] = pd.to_datetime(df['TIMESTAMP'])\n",
    "    df['TIMESTAMP_1'] = df['TIMESTAMP'].dt.strftime('%Y-%m-%d')\n",
    "    df['TIMESTAMP_2'] = df['TIMESTAMP'].dt.strftime('%H%M')\n",
    "except Exception as e:\n",
    "    print(\"Error parsing timestamp:\", e)\n",
    "\n",
    "# rename columns\n",
    "df_selected = df[['TIMESTAMP_1', 'TIMESTAMP_2', \n",
    "                  'Temp_K_Avg', 'press_Avg', 'rh_hmp1_Avg', \n",
    "                  'Rn_total_Avg', 'Rad_long_Dn_Avg', 'Rad_long_Up_Avg', 'Rad_short_Dn_Avg', 'Rad_short_Up_Avg',\n",
    "                  'par_flxdens_Avg', 'wnd_spd', 'wnd_dir_compass',\n",
    "                  'SoilT_Avg(1)', 'SoilT_Avg(2)', 'SoilT_Avg(3)',\n",
    "                  'HFT_Avg(1)', 'HFT_Avg(2)', 'HFT_Avg(3)',\n",
    "                  'vwc_Avg']]\n",
    "df_selected = df_selected.rename(columns=columns_mapping)\n",
    "\n",
    "# convert RH to percentage\n",
    "df_selected['RH_0_0_1'] = df_selected['RH_0_0_1'] * 100\n",
    "\n",
    "# add units\n",
    "df_selected.loc[-1] = units \n",
    "\n",
    "# sort columns\n",
    "df_selected = df_selected.sort_index().reset_index(drop=True)\n",
    "\n",
    "# fill NaN values with -999\n",
    "df_selected = df_selected.fillna(-999)\n",
    "\n",
    "# save the data to a new file\n",
    "output_file = \"H:\\\\Flux\\\\KBS\\\\2023T7\\\\raw\\\\TOA5_flux7_230808.csv\"\n",
    "df_selected.to_csv(output_file, index=False)\n",
    "\n",
    "print(f\"Data successfully converted and saved to {output_file}\")"
   ]
  }
 ],
 "metadata": {
  "kernelspec": {
   "display_name": "Python 3",
   "language": "python",
   "name": "python3"
  },
  "language_info": {
   "codemirror_mode": {
    "name": "ipython",
    "version": 3
   },
   "file_extension": ".py",
   "mimetype": "text/x-python",
   "name": "python",
   "nbconvert_exporter": "python",
   "pygments_lexer": "ipython3",
   "version": "3.10.11"
  }
 },
 "nbformat": 4,
 "nbformat_minor": 2
}
